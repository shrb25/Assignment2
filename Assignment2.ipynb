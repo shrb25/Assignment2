{
 "cells": [
  {
   "cell_type": "code",
   "execution_count": null,
   "id": "095c2cd6-60f5-44f6-b3eb-fb6c8d325282",
   "metadata": {},
   "outputs": [],
   "source": [
    "                                                   Assignment 2\n",
    "1.What are data structures, and why are they important?\n",
    " Data structures are different ways to organize,store and manipulate data. EX- Lists, Tuples,Sets,Dictionary etc. It makes the management and manipluation of data easy and the user is able to make efficient use of data to draw conclusions from it.\n",
    "2.Explain the difference between mutable and immutable data types with examples?\n",
    " Mutable data types are those data types which can be edited or the values in them can be changed. ex- list. if we create a list and try to change the values in the list we can do it. We can replace the values of the list with another value. But if try to do so in tuples or string data type it is not posssible because these data structures once created in the memory are immutable.\n",
    "3.What are the main differences between lists and tuples in Python?\n",
    " List and tuples both are ordered collection of heterogenous data type which means they can store all kinds of data. The main difference between them is lists are mutable which means the values in the list can be changed to another value after creation whereas tuples are immutable . Once created the values in tuples can be changed. So it is used to store values which doesnt need edition afterwards.\n",
    "4.Describe how dictionaries store data?\n",
    " Dictionaies are an ordered collection of data which stores data in the form of key and value pair.The indexes in dictionary are replaced in python by key of the dictionary.\n",
    "5.Why might you use a set instead of a list in Python?\n",
    " A list can store duplicate values whereas a set is used to store unique values. Hence if we want to eliminate redundancy of values we should use set instead of lists.\n",
    "6. What is a string in Python, and how is it different from a list?\n",
    " A string is an ordered collection of alphanumeric data in python. It stores characters in the form of text. Whereas a list is ordered collection of heterogenous data. It can store all kinds of data like integers, complex, float, strings etc.\n",
    "7.How do tuples ensure data integrity in Python?\n",
    " Tuples offer data integrity by ensuring that the values stored inside the tuple cant be changed after creation. So it maintains data integrity.\n",
    "8.What is a hash table, and how does it relate to dictionaries in Python?\n",
    " Hash table is a data structure that stores data of the dictionary in the form of a table containing key and value pairs.\n",
    "9.Can lists contain different data types in Python?\n",
    " Yes lists in python can contain different data types like integers, float,string, boolean, complex etc.\n",
    "10.Explain why strings are immutable in Python?\n",
    "In python the values in a string data type cannot be changed once defined hence they are called immutable.\n",
    "11.What advantages do dictionaries offer over lists for certain tasks?\n",
    "Dictionaries in python doesnot store duplicate keys,whereas values can be same. keys in the dictionary are of immutable data type. whereas values can be if any data type. List can store duplicate items which are ordered collection of data. dictionaries cannot store duplicate items. it has unordered collection of data. Dictionaries are used where values need to be accessed using key value pair. Like name:john,age:36 etc. Lists are used where we need to store data in an ordered format and multiple information about same kind of data.\n",
    "12.Describe a scenario where using a tuple would be preferable over a list?\n",
    "Tuples are immutable data type where values once stored cant be changed. so if we want to store unique records like employee id which can be changed later or adhaar number we can use tuples instead of list which can be edited later unlike tuples.\n",
    "13.How do sets handle duplicate values in Python?\n",
    "Duplicate values in sets are removed and only unique values are retained in a set.\n",
    "14. How does the “in” keyword work differently for lists and dictionaries?\n",
    "In lists in keyword is used to find that a particular item is there in the list or not by using syntax \"item in listname\" . If its true it returns a boolean value true otherwise false.\n",
    "In dictionaries in keyword is used to find if the particular key is there in the dictionary or not. It returns true or false.\n",
    "15.Can you modify the elements of a tuple? Explain why or why not?\n",
    "No the elements of a tuple cant be modified because it is immutable data type. Once defined in memory its elements cant be changed.\n",
    "16.What is a nested dictionary, and give an example of its use case?\n",
    "It is a dictionary that contains another dictionaries. It is used where the data requires multiple layers of organization. Eg if elployee data need to be grouped by departmentsetc.\n",
    "Employee= {\"inventory\":{\"E1\":\"john\",\"age\":36},\"sale\":{\"E2\":\"swati\",\"age\":45}}\n",
    "18.In what situations are lists preferred over dictionaries?\n",
    "list is an ordered collection of items whereas dictionary is unordered collection of data . Data which is sorted needs to be accessed using indexes of list is useful in the usage of lists. Whereas in dictionary the data is accessed by key value pairs.\n",
    "19.Why are dictionaries considered unordered, and how does that affect data retrieval?\n",
    "Yes dictionaries are unordered that means you cannot access an element of a dictionary based on its position in the ditionary. It can be accessed directly by the key name.It is fast for searching things by key name in the dictionary.\n",
    "20.Explain the difference between a list and a dictionary in terms of data retrieval.\n",
    "List is faster for ordered operations like sorting whereas dictionary is faster for lookup operations."
   ]
  },
  {
   "cell_type": "code",
   "execution_count": 3,
   "id": "c36ea61a-2dcd-4c7e-afc0-e9526d40081d",
   "metadata": {},
   "outputs": [
    {
     "name": "stdin",
     "output_type": "stream",
     "text": [
      "Enter your name Shruti\n"
     ]
    },
    {
     "name": "stdout",
     "output_type": "stream",
     "text": [
      "Shruti"
     ]
    }
   ],
   "source": [
    "#1.Write a code to create a string with your name and print it?\n",
    "str =input(\"Enter your name\")\n",
    "for s in str:\n",
    "    print(s,end=\"\")"
   ]
  },
  {
   "cell_type": "code",
   "execution_count": 5,
   "id": "d1355558-6afd-439a-bd0c-20ecdbd8c1b3",
   "metadata": {},
   "outputs": [
    {
     "name": "stdout",
     "output_type": "stream",
     "text": [
      "11\n"
     ]
    }
   ],
   "source": [
    "#2.Write a code to find the length of the string \"Hello World\"?\n",
    "str=\"Hello World\"\n",
    "count=0\n",
    "for i in str:\n",
    "    count=count+1\n",
    "print(count)\n",
    "    "
   ]
  },
  {
   "cell_type": "code",
   "execution_count": 8,
   "id": "97398d19-4b00-4a09-88dd-7abfcf9c7ee4",
   "metadata": {},
   "outputs": [
    {
     "name": "stdout",
     "output_type": "stream",
     "text": [
      "Pyt\n"
     ]
    }
   ],
   "source": [
    "#3.Write a code to slice the first 3 characters from the string \"Python Programming\"?\n",
    "str=\"Python Programming\"\n",
    "s=str[0:3]\n",
    "print(s)"
   ]
  },
  {
   "cell_type": "code",
   "execution_count": 9,
   "id": "8fe037a4-f696-40cf-9aa0-da4766b8e8e2",
   "metadata": {},
   "outputs": [
    {
     "name": "stdout",
     "output_type": "stream",
     "text": [
      "HELLO\n"
     ]
    }
   ],
   "source": [
    "#4.Write a code to convert the string \"hello\" to uppercase?\n",
    "str= \"hello\"\n",
    "s= str.upper()\n",
    "print(s)"
   ]
  },
  {
   "cell_type": "code",
   "execution_count": 11,
   "id": "53ebfa52-7544-4e55-ba6a-cdf06ce4d630",
   "metadata": {},
   "outputs": [
    {
     "data": {
      "text/plain": [
       "'I like orange'"
      ]
     },
     "execution_count": 11,
     "metadata": {},
     "output_type": "execute_result"
    }
   ],
   "source": [
    "#5.Write a code to replace the word \"apple\" with \"orange\" in the string \"I like apple\"?\n",
    "str=\"I like apple\"\n",
    "s=str.replace(\"apple\",\"orange\")\n",
    "s"
   ]
  },
  {
   "cell_type": "code",
   "execution_count": 1,
   "id": "59670149-bf9b-446c-8023-7b5edc050113",
   "metadata": {},
   "outputs": [
    {
     "data": {
      "text/plain": [
       "[1, 2, 3, 4, 5]"
      ]
     },
     "execution_count": 1,
     "metadata": {},
     "output_type": "execute_result"
    }
   ],
   "source": [
    "#6.Write a code to create a list with numbers 1 to 5 and print it?\n",
    "numbers=[num for num in range(1,6)]\n",
    "numbers"
   ]
  },
  {
   "cell_type": "code",
   "execution_count": 5,
   "id": "e9be7f3d-3b1f-42f4-902e-51e14b9c1bbd",
   "metadata": {},
   "outputs": [
    {
     "data": {
      "text/plain": [
       "[1, 2, 3, 4, 10]"
      ]
     },
     "execution_count": 5,
     "metadata": {},
     "output_type": "execute_result"
    }
   ],
   "source": [
    "#7.Write a code to append the number 10 to the list [1, 2, 3, 4]?\n",
    "lis=[1,2,3,4]\n",
    "lis.append(10)\n",
    "lis\n"
   ]
  },
  {
   "cell_type": "code",
   "execution_count": 6,
   "id": "0cd0eaef-94de-40d8-ad51-45cb6f08e88d",
   "metadata": {},
   "outputs": [
    {
     "data": {
      "text/plain": [
       "[1, 2, 4, 5]"
      ]
     },
     "execution_count": 6,
     "metadata": {},
     "output_type": "execute_result"
    }
   ],
   "source": [
    "#8.Write a code to remove the number 3 from the list [1, 2, 3, 4, 5]?\n",
    "lis=[1,2,3,4,5]\n",
    "lis.remove(3)\n",
    "lis"
   ]
  },
  {
   "cell_type": "code",
   "execution_count": 10,
   "id": "61e7eda8-dbba-4348-90d9-c6aae8d53bb9",
   "metadata": {},
   "outputs": [
    {
     "name": "stdout",
     "output_type": "stream",
     "text": [
      "second element in the list is: b\n"
     ]
    }
   ],
   "source": [
    "#9.Write a code to access the second element in the list ['a', 'b', 'c', 'd']?\n",
    "lis=['a','b','c','d']\n",
    "print(\"second element in the list is:\",lis[1])"
   ]
  },
  {
   "cell_type": "code",
   "execution_count": 15,
   "id": "04fa2c17-591f-45a6-964d-6c0877f884ac",
   "metadata": {},
   "outputs": [
    {
     "data": {
      "text/plain": [
       "[50, 40, 30, 20, 10]"
      ]
     },
     "execution_count": 15,
     "metadata": {},
     "output_type": "execute_result"
    }
   ],
   "source": [
    "#10.Write a code to reverse the list [10, 20, 30, 40, 50].\n",
    "lis=[10,20,30,40,50]\n",
    "rev_lis=lis[::-1]\n",
    "rev_lis"
   ]
  },
  {
   "cell_type": "code",
   "execution_count": 16,
   "id": "c8fb1740-a053-4443-9d15-f2d9b62607d5",
   "metadata": {},
   "outputs": [
    {
     "name": "stdout",
     "output_type": "stream",
     "text": [
      "(10, 20, 30)\n"
     ]
    }
   ],
   "source": [
    "#11. Write a code to create a tuple with the elements 10, 20, 30 and print it?\n",
    "tup=(10,20,30,)\n",
    "print(tup)"
   ]
  },
  {
   "cell_type": "code",
   "execution_count": 17,
   "id": "5c64afa4-8de9-4218-a166-afa45309452a",
   "metadata": {},
   "outputs": [
    {
     "data": {
      "text/plain": [
       "'apple'"
      ]
     },
     "execution_count": 17,
     "metadata": {},
     "output_type": "execute_result"
    }
   ],
   "source": [
    "#12.Write a code to access the first element of the tuple ('apple', 'banana', 'cherry').\n",
    "tup=(\"apple\",\"banana\",\"cherry\")\n",
    "tup[0]"
   ]
  },
  {
   "cell_type": "code",
   "execution_count": 19,
   "id": "c49010e9-1942-4fa6-95b3-ec5577bee7d5",
   "metadata": {},
   "outputs": [
    {
     "data": {
      "text/plain": [
       "3"
      ]
     },
     "execution_count": 19,
     "metadata": {},
     "output_type": "execute_result"
    }
   ],
   "source": [
    "#13.Write a code to count how many times the number 2 appears in the tuple (1, 2, 3, 2, 4, 2)?\n",
    "tup=(1,2,3,2,4,2)\n",
    "tup.count(2)"
   ]
  },
  {
   "cell_type": "code",
   "execution_count": 22,
   "id": "9bb9c659-6831-430e-8748-2760d1655f70",
   "metadata": {},
   "outputs": [
    {
     "name": "stdout",
     "output_type": "stream",
     "text": [
      "1\n"
     ]
    }
   ],
   "source": [
    "#14.Write a code to find the index of the element \"cat\" in the tuple ('dog', 'cat', 'rabbit').\n",
    "tup=(\"dog\",\"cat\",\"rabbit\")\n",
    "i=tup.index(\"cat\")\n",
    "print(i)"
   ]
  },
  {
   "cell_type": "code",
   "execution_count": 28,
   "id": "8fcdb2b0-0ccf-4fbe-a84d-81ded679e582",
   "metadata": {},
   "outputs": [
    {
     "name": "stdout",
     "output_type": "stream",
     "text": [
      "the element 'banana' is present in the tuple\n"
     ]
    }
   ],
   "source": [
    "#15.Write a code to check if the element \"banana\" is in the tuple ('apple', 'orange', 'banana').\n",
    "tup=(\"apple\",\"orange\",\"banana\")\n",
    "if \"banana\" in tup:\n",
    " print(\"the element 'banana' is present in the tuple\")\n",
    "else:\n",
    " print(\"the element is not present\")"
   ]
  },
  {
   "cell_type": "code",
   "execution_count": 1,
   "id": "c6c6dab9-6459-4547-b7c2-4a8b642b623a",
   "metadata": {},
   "outputs": [
    {
     "data": {
      "text/plain": [
       "{1, 2, 3, 4, 5}"
      ]
     },
     "execution_count": 1,
     "metadata": {},
     "output_type": "execute_result"
    }
   ],
   "source": [
    "#16.. Write a code to create a set with the elements 1, 2, 3, 4, 5 and print it.\n",
    "s={1,2,3,4,5}\n",
    "s"
   ]
  },
  {
   "cell_type": "code",
   "execution_count": 2,
   "id": "03f4b7ed-62fb-4054-86e4-7715c6cfd956",
   "metadata": {},
   "outputs": [
    {
     "data": {
      "text/plain": [
       "{1, 2, 3, 4, 6}"
      ]
     },
     "execution_count": 2,
     "metadata": {},
     "output_type": "execute_result"
    }
   ],
   "source": [
    "#17. Write a code to add the element 6 to the set {1, 2, 3, 4}.\n",
    "s={1,2,3,4}\n",
    "s.add(6)\n",
    "s"
   ]
  },
  {
   "cell_type": "code",
   "execution_count": 3,
   "id": "8fc32797-5f07-47ad-ac23-70f097ee4588",
   "metadata": {},
   "outputs": [
    {
     "data": {
      "text/plain": [
       "(10, 20, 30)"
      ]
     },
     "execution_count": 3,
     "metadata": {},
     "output_type": "execute_result"
    }
   ],
   "source": [
    "#18.Write a code to create a tuple with the elements 10, 20, 30 and print it.\n",
    "tup=(10,20,30)\n",
    "tup"
   ]
  },
  {
   "cell_type": "code",
   "execution_count": 4,
   "id": "80b85abc-5d6d-462c-9dae-18c198da6d92",
   "metadata": {},
   "outputs": [
    {
     "data": {
      "text/plain": [
       "'apple'"
      ]
     },
     "execution_count": 4,
     "metadata": {},
     "output_type": "execute_result"
    }
   ],
   "source": [
    "#19.Write a code to access the first element of the tuple ('apple', 'banana', 'cherry').\n",
    "tup=(\"apple\",\"cherry\",\"banana\")\n",
    "tup[0]"
   ]
  },
  {
   "cell_type": "code",
   "execution_count": 7,
   "id": "af973fee-40b9-439b-bb7d-2fb437eeaaab",
   "metadata": {},
   "outputs": [
    {
     "data": {
      "text/plain": [
       "3"
      ]
     },
     "execution_count": 7,
     "metadata": {},
     "output_type": "execute_result"
    }
   ],
   "source": [
    "#20. Write a code to count how many times the number 2 appears in the tuple (1, 2, 3, 2, 4, 2).\n",
    "tup=(1,2,3,2,4,2)\n",
    "tup.count(2)\n"
   ]
  },
  {
   "cell_type": "code",
   "execution_count": 8,
   "id": "bf99fe03-8b06-45b5-a064-758947b7f8b4",
   "metadata": {},
   "outputs": [
    {
     "data": {
      "text/plain": [
       "1"
      ]
     },
     "execution_count": 8,
     "metadata": {},
     "output_type": "execute_result"
    }
   ],
   "source": [
    "#21.Write a code to find the index of the element \"cat\" in the tuple ('dog', 'cat', 'rabbit').\n",
    "tup=(\"dog\",\"cat\",\"rabbit\")\n",
    "tup.index(\"cat\")"
   ]
  },
  {
   "cell_type": "code",
   "execution_count": 9,
   "id": "8a7bc730-763d-43da-8aac-6beabc36c66e",
   "metadata": {},
   "outputs": [
    {
     "data": {
      "text/plain": [
       "True"
      ]
     },
     "execution_count": 9,
     "metadata": {},
     "output_type": "execute_result"
    }
   ],
   "source": [
    "#22.Write a code to check if the element \"banana\" is in the tuple ('apple', 'orange', 'banana').\n",
    "tup=(\"apple\",\"orange\",\"banana\")\n",
    "\"banana\" in tup"
   ]
  },
  {
   "cell_type": "code",
   "execution_count": 11,
   "id": "f234fa27-d1c0-4d48-b32a-6278cd877071",
   "metadata": {},
   "outputs": [
    {
     "data": {
      "text/plain": [
       "{1, 2, 3, 4, 5}"
      ]
     },
     "execution_count": 11,
     "metadata": {},
     "output_type": "execute_result"
    }
   ],
   "source": [
    "#23.Write a code to create a set with the elements 1, 2, 3, 4, 5 and print it.\n",
    "s={1,2,3,4,5}\n",
    "s"
   ]
  },
  {
   "cell_type": "code",
   "execution_count": 14,
   "id": "f0ebd5a6-c588-4d7f-8f1d-72e369abec0b",
   "metadata": {},
   "outputs": [
    {
     "data": {
      "text/plain": [
       "{1, 2, 3, 4, 6}"
      ]
     },
     "execution_count": 14,
     "metadata": {},
     "output_type": "execute_result"
    }
   ],
   "source": [
    "#24.Write a code to add the element 6 to the set {1, 2, 3, 4}.\n",
    "s1={1,2,3,4}\n",
    "s1.add(6)\n",
    "s1"
   ]
  },
  {
   "cell_type": "code",
   "execution_count": null,
   "id": "e66c992b-5d7c-4703-b6ef-bcd367174de4",
   "metadata": {},
   "outputs": [],
   "source": []
  }
 ],
 "metadata": {
  "kernelspec": {
   "display_name": "Python 3 (ipykernel)",
   "language": "python",
   "name": "python3"
  },
  "language_info": {
   "codemirror_mode": {
    "name": "ipython",
    "version": 3
   },
   "file_extension": ".py",
   "mimetype": "text/x-python",
   "name": "python",
   "nbconvert_exporter": "python",
   "pygments_lexer": "ipython3",
   "version": "3.12.7"
  }
 },
 "nbformat": 4,
 "nbformat_minor": 5
}
